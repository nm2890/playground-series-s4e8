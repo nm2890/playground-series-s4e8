{
 "cells": [
  {
   "cell_type": "markdown",
   "metadata": {},
   "source": [
    "<p>The objective of this notebook is to preprocess train/test data in order to optimize memory consumption (without any feature engineering)</p>"
   ]
  },
  {
   "cell_type": "code",
   "execution_count": 7,
   "metadata": {},
   "outputs": [],
   "source": [
    "import pandas as pd\n",
    "import numpy as np\n",
    "\n",
    "import zipfile"
   ]
  },
  {
   "cell_type": "code",
   "execution_count": 14,
   "metadata": {},
   "outputs": [],
   "source": [
    "def reduce_memory_usage(df) :\n",
    "\n",
    "    df['id'] = df['id'].astype(np.int32)\n",
    "\n",
    "    df['cap-diameter']= df['cap-diameter'].astype(np.float16)\n",
    "    df['stem-height']= df['stem-height'].astype(np.float16)\n",
    "    df['stem-width']= df['stem-width'].astype(np.float16)\n",
    "\n",
    "\n",
    "    return(df)"
   ]
  },
  {
   "cell_type": "code",
   "execution_count": 9,
   "metadata": {},
   "outputs": [],
   "source": [
    "zf = zipfile.ZipFile('/home/nico/Projets/kaggle_competitions/playground-series-s4e8/data/playground-series-s4e8.zip')"
   ]
  },
  {
   "cell_type": "code",
   "execution_count": 10,
   "metadata": {},
   "outputs": [],
   "source": [
    "train = pd.read_csv(zf.open('train.csv'))\n",
    "test = pd.read_csv(zf.open('test.csv'))"
   ]
  },
  {
   "cell_type": "code",
   "execution_count": 11,
   "metadata": {},
   "outputs": [
    {
     "data": {
      "text/plain": [
       "Index                         132\n",
       "id                       24935560\n",
       "class                   180782810\n",
       "cap-diameter             24935560\n",
       "cap-shape               180781937\n",
       "cap-surface             163336555\n",
       "cap-color               180782813\n",
       "does-bruise-or-bleed    180782617\n",
       "gill-attachment         167160705\n",
       "gill-spacing            148063593\n",
       "gill-color              180781664\n",
       "stem-height              24935560\n",
       "stem-width               24935560\n",
       "stem-root               109100276\n",
       "stem-surface            129280642\n",
       "stem-color              180781990\n",
       "veil-type               103888005\n",
       "veil-color              109518197\n",
       "has-ring                180782198\n",
       "ring-type               177432071\n",
       "spore-print-color       106691131\n",
       "habitat                 180781851\n",
       "season                  180782810\n",
       "dtype: int64"
      ]
     },
     "execution_count": 11,
     "metadata": {},
     "output_type": "execute_result"
    }
   ],
   "source": [
    "train_memory_usage = train.memory_usage(deep=True)\n",
    "train_memory_usage"
   ]
  },
  {
   "cell_type": "code",
   "execution_count": 12,
   "metadata": {},
   "outputs": [
    {
     "data": {
      "text/plain": [
       "id                        int64\n",
       "class                    object\n",
       "cap-diameter            float64\n",
       "cap-shape                object\n",
       "cap-surface              object\n",
       "cap-color                object\n",
       "does-bruise-or-bleed     object\n",
       "gill-attachment          object\n",
       "gill-spacing             object\n",
       "gill-color               object\n",
       "stem-height             float64\n",
       "stem-width              float64\n",
       "stem-root                object\n",
       "stem-surface             object\n",
       "stem-color               object\n",
       "veil-type                object\n",
       "veil-color               object\n",
       "has-ring                 object\n",
       "ring-type                object\n",
       "spore-print-color        object\n",
       "habitat                  object\n",
       "season                   object\n",
       "dtype: object"
      ]
     },
     "execution_count": 12,
     "metadata": {},
     "output_type": "execute_result"
    }
   ],
   "source": [
    "train.dtypes"
   ]
  },
  {
   "cell_type": "code",
   "execution_count": 15,
   "metadata": {},
   "outputs": [],
   "source": [
    "new_train = reduce_memory_usage(train)\n",
    "new_train_memory_usage = new_train.memory_usage(deep=True)"
   ]
  },
  {
   "cell_type": "code",
   "execution_count": 16,
   "metadata": {},
   "outputs": [],
   "source": [
    "gain_memory = round((train_memory_usage.sum() - new_train_memory_usage.sum()) / train_memory_usage.sum(),2)"
   ]
  },
  {
   "cell_type": "code",
   "execution_count": 17,
   "metadata": {},
   "outputs": [
    {
     "name": "stdout",
     "output_type": "stream",
     "text": [
      "Gain on train : 0.02\n"
     ]
    }
   ],
   "source": [
    "print(f'Gain on train : {gain_memory}')"
   ]
  },
  {
   "cell_type": "code",
   "execution_count": 18,
   "metadata": {},
   "outputs": [],
   "source": [
    "new_test = reduce_memory_usage(test)"
   ]
  },
  {
   "cell_type": "code",
   "execution_count": 19,
   "metadata": {},
   "outputs": [],
   "source": [
    "new_train.to_parquet('train.parquet')\n",
    "new_test.to_parquet('test.parquet')"
   ]
  },
  {
   "cell_type": "code",
   "execution_count": null,
   "metadata": {},
   "outputs": [],
   "source": []
  }
 ],
 "metadata": {
  "kernelspec": {
   "display_name": "venv-kaggle",
   "language": "python",
   "name": "python3"
  },
  "language_info": {
   "codemirror_mode": {
    "name": "ipython",
    "version": 3
   },
   "file_extension": ".py",
   "mimetype": "text/x-python",
   "name": "python",
   "nbconvert_exporter": "python",
   "pygments_lexer": "ipython3",
   "version": "3.11.2"
  }
 },
 "nbformat": 4,
 "nbformat_minor": 2
}
